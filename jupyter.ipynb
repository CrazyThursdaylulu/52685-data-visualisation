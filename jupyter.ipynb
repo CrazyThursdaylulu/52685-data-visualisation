{
 "cells": [
  {
   "cell_type": "code",
   "execution_count": 2,
   "id": "68ad3ade",
   "metadata": {},
   "outputs": [
    {
     "name": "stdout",
     "output_type": "stream",
     "text": [
      "Requirement already satisfied: pandas in c:\\users\\lorda\\anaconda3\\lib\\site-packages (1.4.3)\n",
      "Requirement already satisfied: python-dateutil>=2.8.1 in c:\\users\\lorda\\anaconda3\\lib\\site-packages (from pandas) (2.8.2)\n",
      "Requirement already satisfied: numpy>=1.18.5 in c:\\users\\lorda\\anaconda3\\lib\\site-packages (from pandas) (1.21.5)\n",
      "Requirement already satisfied: pytz>=2020.1 in c:\\users\\lorda\\anaconda3\\lib\\site-packages (from pandas) (2022.1)\n",
      "Requirement already satisfied: six>=1.5 in c:\\users\\lorda\\anaconda3\\lib\\site-packages (from python-dateutil>=2.8.1->pandas) (1.16.0)\n",
      "Requirement already satisfied: matplotlib in c:\\users\\lorda\\anaconda3\\lib\\site-packages (3.5.2)\n",
      "Requirement already satisfied: packaging>=20.0 in c:\\users\\lorda\\anaconda3\\lib\\site-packages (from matplotlib) (21.3)\n",
      "Requirement already satisfied: cycler>=0.10 in c:\\users\\lorda\\anaconda3\\lib\\site-packages (from matplotlib) (0.11.0)\n",
      "Requirement already satisfied: fonttools>=4.22.0 in c:\\users\\lorda\\anaconda3\\lib\\site-packages (from matplotlib) (4.25.0)\n",
      "Requirement already satisfied: python-dateutil>=2.7 in c:\\users\\lorda\\anaconda3\\lib\\site-packages (from matplotlib) (2.8.2)\n",
      "Requirement already satisfied: kiwisolver>=1.0.1 in c:\\users\\lorda\\anaconda3\\lib\\site-packages (from matplotlib) (1.4.2)\n",
      "Requirement already satisfied: numpy>=1.17 in c:\\users\\lorda\\anaconda3\\lib\\site-packages (from matplotlib) (1.21.5)\n",
      "Requirement already satisfied: pyparsing>=2.2.1 in c:\\users\\lorda\\anaconda3\\lib\\site-packages (from matplotlib) (3.0.9)\n",
      "Requirement already satisfied: pillow>=6.2.0 in c:\\users\\lorda\\anaconda3\\lib\\site-packages (from matplotlib) (9.2.0)\n",
      "Requirement already satisfied: six>=1.5 in c:\\users\\lorda\\anaconda3\\lib\\site-packages (from python-dateutil>=2.7->matplotlib) (1.16.0)\n",
      "Requirement already satisfied: ipywidgets in c:\\users\\lorda\\anaconda3\\lib\\site-packages (7.6.5)\n",
      "Requirement already satisfied: ipython-genutils~=0.2.0 in c:\\users\\lorda\\anaconda3\\lib\\site-packages (from ipywidgets) (0.2.0)\n",
      "Requirement already satisfied: traitlets>=4.3.1 in c:\\users\\lorda\\anaconda3\\lib\\site-packages (from ipywidgets) (5.1.1)\n",
      "Requirement already satisfied: ipykernel>=4.5.1 in c:\\users\\lorda\\anaconda3\\lib\\site-packages (from ipywidgets) (6.15.2)\n",
      "Requirement already satisfied: widgetsnbextension~=3.5.0 in c:\\users\\lorda\\anaconda3\\lib\\site-packages (from ipywidgets) (3.5.2)\n",
      "Requirement already satisfied: jupyterlab-widgets>=1.0.0 in c:\\users\\lorda\\anaconda3\\lib\\site-packages (from ipywidgets) (1.0.0)\n",
      "Requirement already satisfied: ipython>=4.0.0 in c:\\users\\lorda\\anaconda3\\lib\\site-packages (from ipywidgets) (8.4.0)\n",
      "Requirement already satisfied: nbformat>=4.2.0 in c:\\users\\lorda\\anaconda3\\lib\\site-packages (from ipywidgets) (5.3.0)\n",
      "Requirement already satisfied: matplotlib-inline>=0.1 in c:\\users\\lorda\\anaconda3\\lib\\site-packages (from ipykernel>=4.5.1->ipywidgets) (0.1.6)\n",
      "Requirement already satisfied: jupyter-client>=6.1.12 in c:\\users\\lorda\\anaconda3\\lib\\site-packages (from ipykernel>=4.5.1->ipywidgets) (6.1.12)\n",
      "Requirement already satisfied: debugpy>=1.0 in c:\\users\\lorda\\anaconda3\\lib\\site-packages (from ipykernel>=4.5.1->ipywidgets) (1.5.1)\n",
      "Requirement already satisfied: psutil in c:\\users\\lorda\\anaconda3\\lib\\site-packages (from ipykernel>=4.5.1->ipywidgets) (5.9.0)\n",
      "Requirement already satisfied: nest-asyncio in c:\\users\\lorda\\anaconda3\\lib\\site-packages (from ipykernel>=4.5.1->ipywidgets) (1.5.5)\n",
      "Requirement already satisfied: tornado>=6.1 in c:\\users\\lorda\\anaconda3\\lib\\site-packages (from ipykernel>=4.5.1->ipywidgets) (6.1)\n",
      "Requirement already satisfied: packaging in c:\\users\\lorda\\anaconda3\\lib\\site-packages (from ipykernel>=4.5.1->ipywidgets) (21.3)\n",
      "Requirement already satisfied: pyzmq>=17 in c:\\users\\lorda\\anaconda3\\lib\\site-packages (from ipykernel>=4.5.1->ipywidgets) (23.2.0)\n",
      "Requirement already satisfied: setuptools>=18.5 in c:\\users\\lorda\\anaconda3\\lib\\site-packages (from ipython>=4.0.0->ipywidgets) (63.4.1)\n",
      "Requirement already satisfied: pygments>=2.4.0 in c:\\users\\lorda\\anaconda3\\lib\\site-packages (from ipython>=4.0.0->ipywidgets) (2.11.2)\n",
      "Requirement already satisfied: decorator in c:\\users\\lorda\\anaconda3\\lib\\site-packages (from ipython>=4.0.0->ipywidgets) (5.1.1)\n",
      "Requirement already satisfied: pickleshare in c:\\users\\lorda\\anaconda3\\lib\\site-packages (from ipython>=4.0.0->ipywidgets) (0.7.5)\n",
      "Requirement already satisfied: stack-data in c:\\users\\lorda\\anaconda3\\lib\\site-packages (from ipython>=4.0.0->ipywidgets) (0.2.0)\n",
      "Requirement already satisfied: colorama in c:\\users\\lorda\\anaconda3\\lib\\site-packages (from ipython>=4.0.0->ipywidgets) (0.4.5)\n",
      "Requirement already satisfied: backcall in c:\\users\\lorda\\anaconda3\\lib\\site-packages (from ipython>=4.0.0->ipywidgets) (0.2.0)\n",
      "Requirement already satisfied: jedi>=0.16 in c:\\users\\lorda\\anaconda3\\lib\\site-packages (from ipython>=4.0.0->ipywidgets) (0.18.1)\n",
      "Requirement already satisfied: prompt-toolkit!=3.0.0,!=3.0.1,<3.1.0,>=2.0.0 in c:\\users\\lorda\\anaconda3\\lib\\site-packages (from ipython>=4.0.0->ipywidgets) (3.0.20)\n",
      "Requirement already satisfied: jupyter-core in c:\\users\\lorda\\anaconda3\\lib\\site-packages (from nbformat>=4.2.0->ipywidgets) (4.10.0)\n",
      "Requirement already satisfied: jsonschema>=2.6 in c:\\users\\lorda\\anaconda3\\lib\\site-packages (from nbformat>=4.2.0->ipywidgets) (4.4.0)\n",
      "Requirement already satisfied: fastjsonschema in c:\\users\\lorda\\anaconda3\\lib\\site-packages (from nbformat>=4.2.0->ipywidgets) (2.16.2)\n",
      "Requirement already satisfied: notebook>=4.4.1 in c:\\users\\lorda\\anaconda3\\lib\\site-packages (from widgetsnbextension~=3.5.0->ipywidgets) (6.4.12)\n",
      "Requirement already satisfied: parso<0.9.0,>=0.8.0 in c:\\users\\lorda\\anaconda3\\lib\\site-packages (from jedi>=0.16->ipython>=4.0.0->ipywidgets) (0.8.3)\n",
      "Requirement already satisfied: attrs>=17.4.0 in c:\\users\\lorda\\anaconda3\\lib\\site-packages (from jsonschema>=2.6->nbformat>=4.2.0->ipywidgets) (21.4.0)\n",
      "Requirement already satisfied: pyrsistent!=0.17.0,!=0.17.1,!=0.17.2,>=0.14.0 in c:\\users\\lorda\\anaconda3\\lib\\site-packages (from jsonschema>=2.6->nbformat>=4.2.0->ipywidgets) (0.18.0)\n",
      "Requirement already satisfied: python-dateutil>=2.1 in c:\\users\\lorda\\anaconda3\\lib\\site-packages (from jupyter-client>=6.1.12->ipykernel>=4.5.1->ipywidgets) (2.8.2)\n",
      "Requirement already satisfied: pywin32>=1.0 in c:\\users\\lorda\\anaconda3\\lib\\site-packages (from jupyter-core->nbformat>=4.2.0->ipywidgets) (302)\n",
      "Requirement already satisfied: Send2Trash>=1.8.0 in c:\\users\\lorda\\anaconda3\\lib\\site-packages (from notebook>=4.4.1->widgetsnbextension~=3.5.0->ipywidgets) (1.8.0)\n",
      "Requirement already satisfied: argon2-cffi in c:\\users\\lorda\\anaconda3\\lib\\site-packages (from notebook>=4.4.1->widgetsnbextension~=3.5.0->ipywidgets) (21.3.0)\n",
      "Requirement already satisfied: nbconvert>=5 in c:\\users\\lorda\\anaconda3\\lib\\site-packages (from notebook>=4.4.1->widgetsnbextension~=3.5.0->ipywidgets) (6.4.4)\n",
      "Requirement already satisfied: prometheus-client in c:\\users\\lorda\\anaconda3\\lib\\site-packages (from notebook>=4.4.1->widgetsnbextension~=3.5.0->ipywidgets) (0.14.1)\n",
      "Requirement already satisfied: terminado>=0.8.3 in c:\\users\\lorda\\anaconda3\\lib\\site-packages (from notebook>=4.4.1->widgetsnbextension~=3.5.0->ipywidgets) (0.13.1)\n",
      "Requirement already satisfied: jinja2 in c:\\users\\lorda\\anaconda3\\lib\\site-packages (from notebook>=4.4.1->widgetsnbextension~=3.5.0->ipywidgets) (2.11.3)\n",
      "Requirement already satisfied: wcwidth in c:\\users\\lorda\\anaconda3\\lib\\site-packages (from prompt-toolkit!=3.0.0,!=3.0.1,<3.1.0,>=2.0.0->ipython>=4.0.0->ipywidgets) (0.2.5)\n",
      "Requirement already satisfied: pyparsing!=3.0.5,>=2.0.2 in c:\\users\\lorda\\anaconda3\\lib\\site-packages (from packaging->ipykernel>=4.5.1->ipywidgets) (3.0.9)\n",
      "Requirement already satisfied: asttokens in c:\\users\\lorda\\anaconda3\\lib\\site-packages (from stack-data->ipython>=4.0.0->ipywidgets) (2.0.5)\n",
      "Requirement already satisfied: executing in c:\\users\\lorda\\anaconda3\\lib\\site-packages (from stack-data->ipython>=4.0.0->ipywidgets) (0.8.3)\n",
      "Requirement already satisfied: pure-eval in c:\\users\\lorda\\anaconda3\\lib\\site-packages (from stack-data->ipython>=4.0.0->ipywidgets) (0.2.2)\n",
      "Requirement already satisfied: bleach in c:\\users\\lorda\\anaconda3\\lib\\site-packages (from nbconvert>=5->notebook>=4.4.1->widgetsnbextension~=3.5.0->ipywidgets) (4.1.0)\n",
      "Requirement already satisfied: beautifulsoup4 in c:\\users\\lorda\\anaconda3\\lib\\site-packages (from nbconvert>=5->notebook>=4.4.1->widgetsnbextension~=3.5.0->ipywidgets) (4.11.1)\n",
      "Requirement already satisfied: jupyterlab-pygments in c:\\users\\lorda\\anaconda3\\lib\\site-packages (from nbconvert>=5->notebook>=4.4.1->widgetsnbextension~=3.5.0->ipywidgets) (0.1.2)\n",
      "Requirement already satisfied: nbclient<0.6.0,>=0.5.0 in c:\\users\\lorda\\anaconda3\\lib\\site-packages (from nbconvert>=5->notebook>=4.4.1->widgetsnbextension~=3.5.0->ipywidgets) (0.5.13)\n",
      "Requirement already satisfied: mistune<2,>=0.8.1 in c:\\users\\lorda\\anaconda3\\lib\\site-packages (from nbconvert>=5->notebook>=4.4.1->widgetsnbextension~=3.5.0->ipywidgets) (0.8.4)\n",
      "Requirement already satisfied: testpath in c:\\users\\lorda\\anaconda3\\lib\\site-packages (from nbconvert>=5->notebook>=4.4.1->widgetsnbextension~=3.5.0->ipywidgets) (0.6.0)\n",
      "Requirement already satisfied: pandocfilters>=1.4.1 in c:\\users\\lorda\\anaconda3\\lib\\site-packages (from nbconvert>=5->notebook>=4.4.1->widgetsnbextension~=3.5.0->ipywidgets) (1.5.0)\n",
      "Requirement already satisfied: entrypoints>=0.2.2 in c:\\users\\lorda\\anaconda3\\lib\\site-packages (from nbconvert>=5->notebook>=4.4.1->widgetsnbextension~=3.5.0->ipywidgets) (0.4)\n",
      "Requirement already satisfied: defusedxml in c:\\users\\lorda\\anaconda3\\lib\\site-packages (from nbconvert>=5->notebook>=4.4.1->widgetsnbextension~=3.5.0->ipywidgets) (0.7.1)\n",
      "Requirement already satisfied: MarkupSafe>=0.23 in c:\\users\\lorda\\anaconda3\\lib\\site-packages (from jinja2->notebook>=4.4.1->widgetsnbextension~=3.5.0->ipywidgets) (2.0.1)\n",
      "Requirement already satisfied: six>=1.5 in c:\\users\\lorda\\anaconda3\\lib\\site-packages (from python-dateutil>=2.1->jupyter-client>=6.1.12->ipykernel>=4.5.1->ipywidgets) (1.16.0)\n",
      "Requirement already satisfied: pywinpty>=1.1.0 in c:\\users\\lorda\\anaconda3\\lib\\site-packages (from terminado>=0.8.3->notebook>=4.4.1->widgetsnbextension~=3.5.0->ipywidgets) (2.0.2)\n",
      "Requirement already satisfied: argon2-cffi-bindings in c:\\users\\lorda\\anaconda3\\lib\\site-packages (from argon2-cffi->notebook>=4.4.1->widgetsnbextension~=3.5.0->ipywidgets) (21.2.0)\n",
      "Requirement already satisfied: cffi>=1.0.1 in c:\\users\\lorda\\anaconda3\\lib\\site-packages (from argon2-cffi-bindings->argon2-cffi->notebook>=4.4.1->widgetsnbextension~=3.5.0->ipywidgets) (1.15.1)\n",
      "Requirement already satisfied: soupsieve>1.2 in c:\\users\\lorda\\anaconda3\\lib\\site-packages (from beautifulsoup4->nbconvert>=5->notebook>=4.4.1->widgetsnbextension~=3.5.0->ipywidgets) (2.3.1)\n",
      "Requirement already satisfied: webencodings in c:\\users\\lorda\\anaconda3\\lib\\site-packages (from bleach->nbconvert>=5->notebook>=4.4.1->widgetsnbextension~=3.5.0->ipywidgets) (0.5.1)\n",
      "Requirement already satisfied: pycparser in c:\\users\\lorda\\anaconda3\\lib\\site-packages (from cffi>=1.0.1->argon2-cffi-bindings->argon2-cffi->notebook>=4.4.1->widgetsnbextension~=3.5.0->ipywidgets) (2.21)\n"
     ]
    },
    {
     "name": "stdout",
     "output_type": "stream",
     "text": [
      "Requirement already satisfied: IPython in c:\\users\\lorda\\anaconda3\\lib\\site-packages (8.4.0)\n",
      "Requirement already satisfied: colorama in c:\\users\\lorda\\anaconda3\\lib\\site-packages (from IPython) (0.4.5)\n",
      "Requirement already satisfied: pygments>=2.4.0 in c:\\users\\lorda\\anaconda3\\lib\\site-packages (from IPython) (2.11.2)\n",
      "Requirement already satisfied: matplotlib-inline in c:\\users\\lorda\\anaconda3\\lib\\site-packages (from IPython) (0.1.6)\n",
      "Requirement already satisfied: decorator in c:\\users\\lorda\\anaconda3\\lib\\site-packages (from IPython) (5.1.1)\n",
      "Requirement already satisfied: jedi>=0.16 in c:\\users\\lorda\\anaconda3\\lib\\site-packages (from IPython) (0.18.1)\n",
      "Requirement already satisfied: stack-data in c:\\users\\lorda\\anaconda3\\lib\\site-packages (from IPython) (0.2.0)\n",
      "Requirement already satisfied: setuptools>=18.5 in c:\\users\\lorda\\anaconda3\\lib\\site-packages (from IPython) (63.4.1)\n",
      "Requirement already satisfied: backcall in c:\\users\\lorda\\anaconda3\\lib\\site-packages (from IPython) (0.2.0)\n",
      "Requirement already satisfied: prompt-toolkit!=3.0.0,!=3.0.1,<3.1.0,>=2.0.0 in c:\\users\\lorda\\anaconda3\\lib\\site-packages (from IPython) (3.0.20)\n",
      "Requirement already satisfied: traitlets>=5 in c:\\users\\lorda\\anaconda3\\lib\\site-packages (from IPython) (5.1.1)\n",
      "Requirement already satisfied: pickleshare in c:\\users\\lorda\\anaconda3\\lib\\site-packages (from IPython) (0.7.5)\n",
      "Requirement already satisfied: parso<0.9.0,>=0.8.0 in c:\\users\\lorda\\anaconda3\\lib\\site-packages (from jedi>=0.16->IPython) (0.8.3)\n",
      "Requirement already satisfied: wcwidth in c:\\users\\lorda\\anaconda3\\lib\\site-packages (from prompt-toolkit!=3.0.0,!=3.0.1,<3.1.0,>=2.0.0->IPython) (0.2.5)\n",
      "Requirement already satisfied: pure-eval in c:\\users\\lorda\\anaconda3\\lib\\site-packages (from stack-data->IPython) (0.2.2)\n",
      "Requirement already satisfied: executing in c:\\users\\lorda\\anaconda3\\lib\\site-packages (from stack-data->IPython) (0.8.3)\n",
      "Requirement already satisfied: asttokens in c:\\users\\lorda\\anaconda3\\lib\\site-packages (from stack-data->IPython) (2.0.5)\n",
      "Requirement already satisfied: six in c:\\users\\lorda\\anaconda3\\lib\\site-packages (from asttokens->stack-data->IPython) (1.16.0)\n"
     ]
    }
   ],
   "source": [
    "#THIS IS IMPORTANT. THE USER NEEDS TO IMPORT ALL NEEDED MODULES FOR THE JUPYTER TO WORK.\n",
    "import sys\n",
    "!{sys.executable} -m pip install pandas\n",
    "!{sys.executable} -m pip install matplotlib\n",
    "!{sys.executable} -m pip install ipywidgets\n",
    "!{sys.executable} -m pip install IPython\n"
   ]
  },
  {
   "cell_type": "code",
   "execution_count": 3,
   "id": "b20bbf46",
   "metadata": {},
   "outputs": [],
   "source": [
    "#LET US IMPORT ALL THE MODUles AFTER INSTALLING THEM.\n",
    "import pandas as pd\n",
    "from IPython.display import IFrame\n",
    "import string\n",
    "import ipywidgets\n",
    "from matplotlib import pyplot as plt\n",
    "df = pd.read_csv('data.csv')\n",
    "\n",
    "#Droppping European Union\n",
    "df.drop(df[(df['Country'] == 'European Union – 27 countries (from 01/02/2020)')].index, inplace=True)\n",
    "#Droppping OECD Europ\n",
    "df.drop(df[(df['Country'] == 'OECD - Europe')].index, inplace=True)\n",
    "#Dropping OECD Asia\n",
    "df.drop(df[(df['Country'] == 'OECD Asia Oceania')].index, inplace=True)\n",
    "#Dropping Republic of China\n",
    "df.drop(df[(df['Country'] == \"China (People's Republic of)\")].index, inplace=True)\n",
    "#Dropping OECD Total\n",
    "df.drop(df[(df['Country'] == \"OECD - Total\")].index, inplace=True)\n",
    "\n",
    "#Cleaning Data Sets\n",
    "df.dropna(inplace=True)\n",
    "\n",
    "\n",
    "#Categorizing Dataset values \n",
    "country_list = []\n",
    "for countries in df[\"Country\"]:\n",
    "    if countries not in country_list:\n",
    "        country_list.append(countries)\n",
    "\n",
    "gases_list = []\n",
    "\n",
    "for gases in df[\"Pollutant\"]:\n",
    "    if gases not in gases_list:\n",
    "        gases_list.append(gases)\n",
    "\n",
    "years_list = []\n",
    "\n",
    "for years in df[\"Year\"]:\n",
    "    if years not in years_list:\n",
    "        years_list.append(years)\n",
    "\n",
    "\n",
    "unit_code_list = []\n",
    "\n",
    "for unit_cod in df[\"Unit Code\"]:\n",
    "    if unit_cod not in unit_code_list:\n",
    "        unit_code_list.append(unit_cod)\n",
    "\n",
    "\n",
    "\n",
    "variable_list = []\n",
    "\n",
    "for variable in df[\"Variable\"]:\n",
    "    if variable not in variable_list:\n",
    "            variable_list.append(variable)\n",
    "\n",
    "\n",
    "powercode_list = []\n",
    "\n",
    "for code in df[\"Unit\"]:\n",
    "    if code not in powercode_list:\n",
    "            powercode_list.append(code)            \n",
    "                                         \n",
    "powercode_list_graph = powercode_list\n",
    "      \n",
    "            "
   ]
  },
  {
   "cell_type": "code",
   "execution_count": 4,
   "id": "3dd62f5f",
   "metadata": {},
   "outputs": [
    {
     "data": {
      "image/png": "[encoded data removed]",
      "text/plain": [
       "<Figure size 640x480 with 1 Axes>"
      ]
     },
     "metadata": {},
     "output_type": "display_data"
    }
   ],
   "source": [
    "#Plotting all values of dataset. The x axis is the frequency, while the y axis is the value.\n",
    "df.plot(y=['Value'],kind=\"line\")\n",
    "plt.tight_layout()\n",
    "plt.ticklabel_format(style='plain')"
   ]
  },
  {
   "cell_type": "code",
   "execution_count": 5,
   "id": "60321b61",
   "metadata": {},
   "outputs": [
    {
     "data": {
      "image/png": "[encoded data removed]",
      "text/plain": [
       "<Figure size 640x480 with 1 Axes>"
      ]
     },
     "metadata": {},
     "output_type": "display_data"
    }
   ],
   "source": [
    "#Plotting all values of dataset. The x axis is the year, while the y axis is the value. This is a scatterfield.\n",
    "df.plot(x='Year',y='Value',kind=\"scatter\")\n",
    "plt.tight_layout()\n",
    "plt.ticklabel_format(style='plain')"
   ]
  },
  {
   "cell_type": "code",
   "execution_count": 6,
   "id": "9a67437d",
   "metadata": {},
   "outputs": [
    {
     "data": {
      "application/vnd.jupyter.widget-view+json": {
       "model_id": "c319cf358c264b7abbde23b569e4a1dd",
       "version_major": 2,
       "version_minor": 0
      },
      "text/plain": [
       "interactive(children=(Dropdown(description='Year:', options=(1990, 1991, 1992, 1993, 1994, 1995, 1996, 1997, 1…"
      ]
     },
     "metadata": {},
     "output_type": "display_data"
    },
    {
     "data": {
      "text/plain": [
       "<function __main__.showYear(year)>"
      ]
     },
     "execution_count": 6,
     "metadata": {},
     "output_type": "execute_result"
    }
   ],
   "source": [
    "#MAKE A CERTAIN GUI FOR COUNTRY AND YEAR PICKER.\n",
    "year_picker = ipywidgets.Dropdown(\n",
    "    options=years_list,\n",
    "    description='Year:',\n",
    "    disable=False\n",
    ")\n",
    "\n",
    "country_picker = ipywidgets.Dropdown(\n",
    "    options=country_list,\n",
    "    description='Country:',\n",
    "    disable=False\n",
    ")\n",
    "\n",
    "def showYear(year):\n",
    "    chosenYearData = df[df['Year'].astype(str).str.contains(f\"{year}\")]\n",
    "    def showCountry(country):\n",
    "        chosenCountryData = chosenYearData[chosenYearData['Country'].astype(str).str.contains(f\"{country}\")]\n",
    "        chosenCountryData.plot(y=['Value'], kind=\"line\",color = \"red\")\n",
    "        plt.tight_layout()\n",
    "        plt.ticklabel_format(style='plain')\n",
    "        plt.xlabel(\"Average Number per case\")\n",
    "        plt.ylabel(f\"Amount of Gases in {country} in {year} in Tonnes\")\n",
    "        plt.show()\n",
    "    ipywidgets.interact(showCountry,country = country_picker)\n",
    "\n",
    "ipywidgets.interact(showYear,year = year_picker)"
   ]
  },
  {
   "cell_type": "code",
   "execution_count": 7,
   "id": "1d9e1acf",
   "metadata": {},
   "outputs": [
    {
     "data": {
      "application/vnd.jupyter.widget-view+json": {
       "model_id": "3116b8cb365b447eae3265bc94986729",
       "version_major": 2,
       "version_minor": 0
      },
      "text/plain": [
       "interactive(children=(Dropdown(description='Year:', options=(1990, 1991, 1992, 1993, 1994, 1995, 1996, 1997, 1…"
      ]
     },
     "metadata": {},
     "output_type": "display_data"
    },
    {
     "data": {
      "text/plain": [
       "<function __main__.showYear(year)>"
      ]
     },
     "execution_count": 7,
     "metadata": {},
     "output_type": "execute_result"
    }
   ],
   "source": [
    "#make a year picker\n",
    "year_picker = ipywidgets.Dropdown(\n",
    "    options=years_list,\n",
    "    description='Year:',\n",
    "    disable=False\n",
    ")\n",
    "#make a pollutant picker\n",
    "\n",
    "pollutant_picker = ipywidgets.Dropdown(\n",
    "    options=gases_list,\n",
    "    description='Pollutant:',\n",
    "    disable=False\n",
    ")\n",
    "#make a unit picker\n",
    "\n",
    "unit_picker = ipywidgets.Dropdown(\n",
    "    options=powercode_list_graph,\n",
    "    description='Unit:',\n",
    "    disable=False\n",
    ")\n",
    "#make a country picker\n",
    "\n",
    "country_picker = ipywidgets.Dropdown(\n",
    "    options=country_list,\n",
    "    description='Country:',\n",
    "    disable=False\n",
    ")\n",
    "#this method is a method that puts in all information from the input of the user.\n",
    "def showYear(year):\n",
    "    chosenYearData = df[df['Year'].astype(str).str.contains(f\"{year}\")]\n",
    "    def showPollutant(pollutant):\n",
    "        chosenPollutantData = chosenYearData[chosenYearData['Pollutant'].astype(str).str.contains(f\"{pollutant}\")]\n",
    "        def showAmount(unit):\n",
    "                chosenAmountData = chosenPollutantData[chosenPollutantData['Unit'].astype(str).str.contains(f\"{unit}\")]\n",
    "                chosenAmountData.plot(y=['Value'], kind=\"hist\",color = \"green\")\n",
    "                plt.tight_layout()\n",
    "                plt.ticklabel_format(style='plain')\n",
    "                plt.xlabel(\"Average Number per case\")\n",
    "                plt.ylabel(f\"Amount of Gases in {unit}\")\n",
    "                plt.show()\n",
    "        ipywidgets.interact(showAmount,unit = unit_picker)\n",
    "    ipywidgets.interact(showPollutant,pollutant = pollutant_picker)\n",
    "        \n",
    "ipywidgets.interact(showYear,year = year_picker)"
   ]
  },
  {
   "cell_type": "code",
   "execution_count": 8,
   "id": "7901d3cc",
   "metadata": {},
   "outputs": [
    {
     "data": {
      "application/vnd.jupyter.widget-view+json": {
       "model_id": "96237a538611447f80c73a70ec33a359",
       "version_major": 2,
       "version_minor": 0
      },
      "text/plain": [
       "interactive(children=(Dropdown(description='Year:', options=(1990, 1991, 1992, 1993, 1994, 1995, 1996, 1997, 1…"
      ]
     },
     "metadata": {},
     "output_type": "display_data"
    },
    {
     "data": {
      "text/plain": [
       "<function __main__.showYear(year)>"
      ]
     },
     "execution_count": 8,
     "metadata": {},
     "output_type": "execute_result"
    }
   ],
   "source": [
    "#THIS IS SIMILAR TO OTHER GUI. IT WAS THE SAME CONCEPT BUT WAS EDITED WITH THIER RESPECTIVE DATABASES\n",
    "year_picker = ipywidgets.Dropdown(\n",
    "    options=years_list,\n",
    "    description='Year:',\n",
    "    disable=False\n",
    ")\n",
    "\n",
    "pollutant_picker = ipywidgets.Dropdown(\n",
    "    options=gases_list,\n",
    "    description='Pollutant:',\n",
    "    disable=False\n",
    ")\n",
    "\n",
    "unit_picker = ipywidgets.Dropdown(\n",
    "    options=powercode_list_graph,\n",
    "    description='Unit:',\n",
    "    disable=False\n",
    ")\n",
    "\n",
    "def showYear(year):\n",
    "    chosenYearData = df[df['Year'].astype(str).str.contains(f\"{year}\")]\n",
    "    def showPollutant(pollutant):\n",
    "        chosenPollutantData = chosenYearData[chosenYearData['Pollutant'].astype(str).str.contains(f\"{pollutant}\")]\n",
    "        def showCountry(country):\n",
    "                    chosenCountryData = chosenPollutantData[chosenPollutantData['Country'].astype(str).str.contains(f\"{country}\")]\n",
    "                    chosenCountryData.plot(y=['Value'], kind=\"line\",color = \"orange\")\n",
    "                    plt.tight_layout()\n",
    "                    plt.ticklabel_format(style='plain')\n",
    "                    plt.xlabel(\"Average Number per case\")\n",
    "                    plt.ylabel(f\"Amount of Gases in {country} in {year} in Tonnes\")\n",
    "                    plt.show()\n",
    "        ipywidgets.interact(showCountry,country = country_picker)\n",
    "    ipywidgets.interact(showPollutant,pollutant = pollutant_picker)    \n",
    "ipywidgets.interact(showYear,year = year_picker)"
   ]
  },
  {
   "cell_type": "code",
   "execution_count": null,
   "id": "f282fcff",
   "metadata": {},
   "outputs": [],
   "source": []
  },
  {
   "cell_type": "code",
   "execution_count": null,
   "id": "218d6004",
   "metadata": {},
   "outputs": [],
   "source": []
  },
  {
   "cell_type": "code",
   "execution_count": null,
   "id": "5c8513bd",
   "metadata": {},
   "outputs": [],
   "source": []
  },
  {
   "cell_type": "code",
   "execution_count": null,
   "id": "b11b0bde",
   "metadata": {},
   "outputs": [],
   "source": []
  },
  {
   "cell_type": "code",
   "execution_count": null,
   "id": "f019518e",
   "metadata": {},
   "outputs": [],
   "source": []
  }
 ],
 "metadata": {
  "kernelspec": {
   "display_name": "Python 3 (ipykernel)",
   "language": "python",
   "name": "python3"
  },
  "language_info": {
   "codemirror_mode": {
    "name": "ipython",
    "version": 3
   },
   "file_extension": ".py",
   "mimetype": "text/x-python",
   "name": "python",
   "nbconvert_exporter": "python",
   "pygments_lexer": "ipython3",
   "version": "3.9.12"
  },
  "vscode": {
   "interpreter": {
    "hash": "10b844e0d75ef744231431c08d0f598d9ba7f1b9f7cd480603c625bc4567b975"
   }
  }
 },
 "nbformat": 4,
 "nbformat_minor": 5
}
